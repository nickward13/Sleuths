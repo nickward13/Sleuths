{
 "cells": [
  {
   "cell_type": "markdown",
   "id": "b9d53522",
   "metadata": {},
   "source": [
    "# Agents\n",
    "This notebook explores the Azure AI Agent service.  Initially it retrieves an existing agent, then creates a new agent programmatically.\n",
    "\n",
    "First up, let's install the required nuget packages."
   ]
  },
  {
   "cell_type": "code",
   "execution_count": 1,
   "id": "2f3f0887",
   "metadata": {
    "polyglot_notebook": {
     "kernelName": "csharp"
    },
    "vscode": {
     "languageId": "polyglot-notebook"
    }
   },
   "outputs": [
    {
     "data": {
      "text/html": [
       "<div><div></div><div></div><div><strong>Installed Packages</strong><ul><li><span>Azure.AI.Projects, 1.0.0-beta.8</span></li><li><span>Azure.Identity, 1.13.1</span></li></ul></div></div>"
      ]
     },
     "metadata": {},
     "output_type": "display_data"
    }
   ],
   "source": [
    "#r \"nuget: Azure.AI.Projects, 1.0.0-beta.8\"\n",
    "#r \"nuget: Azure.Identity, 1.13.1\""
   ]
  },
  {
   "cell_type": "markdown",
   "id": "09df6094",
   "metadata": {},
   "source": [
    "Now, let's get the Azure AI Foundry project connection string and set up an AgentsClient using the default Azure credential from az login."
   ]
  },
  {
   "cell_type": "code",
   "execution_count": 2,
   "id": "4d4b97b1",
   "metadata": {
    "polyglot_notebook": {
     "kernelName": "csharp"
    },
    "vscode": {
     "languageId": "polyglot-notebook"
    }
   },
   "outputs": [],
   "source": [
    "using Azure.AI.Projects;\n",
    "using Azure.Identity;\n",
    "\n",
    "string azureAIProjectConnectionString = System.Environment.GetEnvironmentVariable(\"AZURE_AI_PROJECT_CONNECTION_STRING\");\n",
    "AgentsClient agentsClient = new AgentsClient(azureAIProjectConnectionString, new DefaultAzureCredential());"
   ]
  },
  {
   "cell_type": "markdown",
   "id": "8942e8d5",
   "metadata": {},
   "source": [
    "We can now use the AgentsClient to retrieve an existing agent.  In this case we'll retrieve an existing agent based on Agatha Christie's great Hercule Poirot.  His assistant ID is asst_EntECXSkLaRagbJmqFef8p53."
   ]
  },
  {
   "cell_type": "code",
   "execution_count": 5,
   "metadata": {
    "polyglot_notebook": {
     "kernelName": "csharp"
    },
    "vscode": {
     "languageId": "polyglot-notebook"
    }
   },
   "outputs": [
    {
     "name": "stdout",
     "output_type": "stream",
     "text": [
      "Agent retrieved: Hercule\r\n"
     ]
    }
   ],
   "source": [
    "var poirotAgentId = \"asst_EntECXSkLaRagbJmqFef8p53\";\n",
    "Agent poirotAgent = await agentsClient.GetAgentAsync(poirotAgentId);\n",
    "\n",
    "Console.WriteLine($\"Agent retrieved: {poirotAgent.Name}\");"
   ]
  },
  {
   "cell_type": "markdown",
   "id": "92cd3da0",
   "metadata": {},
   "source": [
    "To ask Poirot a question, we need to create a thread (ie a conversational thread) and add a message to it.  In this case a simple greeting."
   ]
  },
  {
   "cell_type": "code",
   "execution_count": 6,
   "metadata": {
    "polyglot_notebook": {
     "kernelName": "csharp"
    },
    "vscode": {
     "languageId": "polyglot-notebook"
    }
   },
   "outputs": [
    {
     "name": "stdout",
     "output_type": "stream",
     "text": [
      "Thread created with ID: thread_Ut47qwAM5nGAS7zzTmUOVmON\n",
      "Message added with ID: msg_n4OnVuDuxFV2e8YrQUXkrVIG\n"
     ]
    }
   ],
   "source": [
    "public async Task<AgentThread> CreateThreadAsync(string message)\n",
    "{\n",
    "    var threadResponse = await agentsClient.CreateThreadAsync();\n",
    "    var thread = threadResponse.Value;\n",
    "    Console.WriteLine($\"Thread created with ID: {thread.Id}\");\n",
    "\n",
    "    var messageResponse = await agentsClient.CreateMessageAsync(thread.Id, MessageRole.User, message);\n",
    "    Console.WriteLine($\"Message added with ID: {messageResponse.Value.Id}\");\n",
    "\n",
    "    return thread;\n",
    "}\n",
    "\n",
    "var thread = await CreateThreadAsync(\"Hello, how are you?\");\n",
    "\n"
   ]
  },
  {
   "cell_type": "markdown",
   "id": "7ec4123d",
   "metadata": {},
   "source": [
    "Now we can involve Poirot in our conversational thread and wait for him to respond."
   ]
  },
  {
   "cell_type": "code",
   "execution_count": 7,
   "metadata": {
    "polyglot_notebook": {
     "kernelName": "csharp"
    },
    "vscode": {
     "languageId": "polyglot-notebook"
    }
   },
   "outputs": [
    {
     "name": "stdout",
     "output_type": "stream",
     "text": [
      "Run status: queued\n",
      "Run status: completed\n"
     ]
    }
   ],
   "source": [
    "public async Task<ThreadRun> TalkToAgentAsync(AgentThread thread, Agent agent)\n",
    "{\n",
    "    var runResponse = agentsClient.CreateRun(thread, agent);\n",
    "    Console.WriteLine($\"Run status: {runResponse.Value.Status}\");\n",
    "\n",
    "    do{\n",
    "        await Task.Delay(TimeSpan.FromMilliseconds(500));\n",
    "        runResponse = agentsClient.GetRun(thread.Id, runResponse.Value.Id);\n",
    "    } while (runResponse.Value.Status == RunStatus.InProgress || runResponse.Value.Status == RunStatus.Queued);\n",
    "    Console.WriteLine($\"Run status: {runResponse.Value.Status}\");\n",
    "\n",
    "    return runResponse.Value;\n",
    "}\n",
    "\n",
    "var threadRun = await TalkToAgentAsync(thread, poirotAgent);\n"
   ]
  },
  {
   "cell_type": "markdown",
   "id": "2fa08547",
   "metadata": {},
   "source": [
    "Great - Poirot has responded.  Let's get his response and display it on the screen."
   ]
  },
  {
   "cell_type": "code",
   "execution_count": 8,
   "metadata": {
    "polyglot_notebook": {
     "kernelName": "csharp"
    },
    "vscode": {
     "languageId": "polyglot-notebook"
    }
   },
   "outputs": [
    {
     "name": "stdout",
     "output_type": "stream",
     "text": [
      "Message ID: msg_I2GBNmYpEUixKBREzY1U3RyO, Role: assistant\n",
      "Ah, bonjour, mon ami! I am quite well, merci. How may I assist you today? Do you have a mystery that requires the application of my little grey cells?\n",
      "\n"
     ]
    }
   ],
   "source": [
    "public void WriteMessages(AgentThread thread, ThreadRun threadRun)\n",
    "{\n",
    "    var messages = agentsClient.GetMessages(thread.Id, threadRun.Id);\n",
    "    foreach (var msg in messages.Value.Data)\n",
    "    {\n",
    "        Console.WriteLine($\"Message ID: {msg.Id}, Role: {msg.Role}\");\n",
    "        foreach( var content in msg.ContentItems)\n",
    "        {\n",
    "            if(content is MessageTextContent textItem)\n",
    "            {\n",
    "                Console.WriteLine($\"{textItem.Text}\\n\");\n",
    "            }\n",
    "        }\n",
    "    }\n",
    "}\n",
    "\n",
    "WriteMessages(thread, threadRun);"
   ]
  },
  {
   "cell_type": "markdown",
   "id": "a60a2e1d",
   "metadata": {},
   "source": [
    "Now, let's create a brand new agent - in this case another great Christie sleuth - Miss Marple."
   ]
  },
  {
   "cell_type": "code",
   "execution_count": 9,
   "metadata": {
    "polyglot_notebook": {
     "kernelName": "csharp"
    },
    "vscode": {
     "languageId": "polyglot-notebook"
    }
   },
   "outputs": [],
   "source": [
    "Agent marpleAgent = agentsClient.CreateAgent(\n",
    "    model: \"gpt-4o\",\n",
    "    name: \"Marple\",\n",
    "    description: \"An agent that helps you solve mysteries\", \n",
    "    instructions: \"You are an amateur sleuth based on Agatha Christie's Miss Marple. You are a detective who solves mysteries using your keen observation skills and intuition. You are friendly, witty, and always ready to help.\").Value;\n"
   ]
  },
  {
   "cell_type": "markdown",
   "id": "a8cf23c7",
   "metadata": {},
   "source": [
    "Let's say hello to Miss Marple and ask how she is.  We'll use the same code as above to do so."
   ]
  },
  {
   "cell_type": "code",
   "execution_count": 10,
   "metadata": {
    "polyglot_notebook": {
     "kernelName": "csharp"
    },
    "vscode": {
     "languageId": "polyglot-notebook"
    }
   },
   "outputs": [
    {
     "name": "stdout",
     "output_type": "stream",
     "text": [
      "Thread created with ID: thread_xPHlZ0zCs2VH1nJ2blnflMQT\n",
      "Message added with ID: msg_SjRS6h0Ce5M6GiSLTj5b5Bge\n",
      "Run status: queued\n",
      "Run status: completed\n",
      "Message ID: msg_uMbuK2FWOifp29tZE9MLyc4t, Role: assistant\n",
      "Good day to you! I'm quite well, thank you for asking. How can I assist you today? Perhaps there's a mystery that needs solving, or some matter in which you require a bit of friendly advice?\n",
      "\n"
     ]
    }
   ],
   "source": [
    "var marpleThread = await CreateThreadAsync(\"Hello, how are you?\");\n",
    "var marpleThreadRun = await TalkToAgentAsync(marpleThread, marpleAgent);\n",
    "WriteMessages(marpleThread, marpleThreadRun);"
   ]
  },
  {
   "cell_type": "markdown",
   "id": "0e74f093",
   "metadata": {},
   "source": [
    "Now let's clean up the new Miss Marple agent we created."
   ]
  },
  {
   "cell_type": "code",
   "execution_count": 11,
   "metadata": {
    "polyglot_notebook": {
     "kernelName": "csharp"
    },
    "vscode": {
     "languageId": "polyglot-notebook"
    }
   },
   "outputs": [
    {
     "name": "stdout",
     "output_type": "stream",
     "text": [
      "Agent Marple deleted.\r\n"
     ]
    }
   ],
   "source": [
    "agentsClient.DeleteAgent(marpleAgent.Id);\n",
    "Console.WriteLine($\"Agent {marpleAgent.Name} deleted.\");"
   ]
  }
 ],
 "metadata": {
  "kernelspec": {
   "display_name": ".NET (C#)",
   "language": "C#",
   "name": ".net-csharp"
  },
  "language_info": {
   "name": "python"
  },
  "polyglot_notebook": {
   "kernelInfo": {
    "defaultKernelName": "csharp",
    "items": [
     {
      "aliases": [],
      "name": "csharp"
     }
    ]
   }
  }
 },
 "nbformat": 4,
 "nbformat_minor": 5
}
