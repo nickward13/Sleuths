{
 "cells": [
  {
   "cell_type": "markdown",
   "id": "b9d53522",
   "metadata": {},
   "source": [
    "# Agents\n",
    "This notebook explores the Azure AI Agent service.  Initially it retrieves an existing agent, then creates a new agent programmatically.\n",
    "\n",
    "First up, let's install the required nuget packages."
   ]
  },
  {
   "cell_type": "code",
   "execution_count": 1,
   "id": "2f3f0887",
   "metadata": {
    "polyglot_notebook": {
     "kernelName": "csharp"
    },
    "vscode": {
     "languageId": "polyglot-notebook"
    }
   },
   "outputs": [
    {
     "data": {
      "text/html": [
       "<div><div></div><div></div><div><strong>Installed Packages</strong><ul><li><span>Azure.AI.Projects, 1.0.0-beta.8</span></li><li><span>Azure.Identity, 1.13.1</span></li></ul></div></div>"
      ]
     },
     "metadata": {},
     "output_type": "display_data"
    }
   ],
   "source": [
    "#r \"nuget: Azure.AI.Projects, 1.0.0-beta.8\"\n",
    "#r \"nuget: Azure.Identity, 1.13.1\""
   ]
  },
  {
   "cell_type": "markdown",
   "id": "09df6094",
   "metadata": {},
   "source": [
    "Now, let's get the Azure AI Foundry project connection string and set up an AgentsClient using the default Azure credential from az login."
   ]
  },
  {
   "cell_type": "code",
   "execution_count": 2,
   "id": "4d4b97b1",
   "metadata": {
    "polyglot_notebook": {
     "kernelName": "csharp"
    },
    "vscode": {
     "languageId": "polyglot-notebook"
    }
   },
   "outputs": [],
   "source": [
    "using Azure.AI.Projects;\n",
    "using Azure.Identity;\n",
    "\n",
    "string azureAIProjectConnectionString = System.Environment.GetEnvironmentVariable(\"AZURE_AI_PROJECT_CONNECTION_STRING\");\n",
    "AgentsClient agentsClient = new AgentsClient(azureAIProjectConnectionString, new DefaultAzureCredential());"
   ]
  },
  {
   "cell_type": "markdown",
   "id": "8942e8d5",
   "metadata": {},
   "source": [
    "We can now use the AgentsClient to retrieve an existing agent.  In this case we'll retrieve an existing agent based on Agatha Christie's great Hercule Poirot.  His assistant ID is asst_EntECXSkLaRagbJmqFef8p53."
   ]
  },
  {
   "cell_type": "code",
   "execution_count": 23,
   "metadata": {
    "polyglot_notebook": {
     "kernelName": "csharp"
    },
    "vscode": {
     "languageId": "polyglot-notebook"
    }
   },
   "outputs": [
    {
     "name": "stdout",
     "output_type": "stream",
     "text": [
      "Agent retrieved: Hercule\r\n"
     ]
    }
   ],
   "source": [
    "var agentId = \"asst_EntECXSkLaRagbJmqFef8p53\";\n",
    "Agent agent = await agentsClient.GetAgentAsync(agentId);\n",
    "\n",
    "Console.WriteLine($\"Agent retrieved: {agent.Name}\");"
   ]
  },
  {
   "cell_type": "markdown",
   "id": "92cd3da0",
   "metadata": {},
   "source": [
    "To ask Poirot a question, we need to create a thread (ie a conversational thread) and add a message to it.  In this case a simple greeting."
   ]
  },
  {
   "cell_type": "code",
   "execution_count": 24,
   "metadata": {
    "polyglot_notebook": {
     "kernelName": "csharp"
    },
    "vscode": {
     "languageId": "polyglot-notebook"
    }
   },
   "outputs": [
    {
     "name": "stdout",
     "output_type": "stream",
     "text": [
      "Thread created with ID: thread_mjjeqdzJugunLfMg7tqRYcxf\n",
      "Message added with ID: msg_HZDpTeK58yk2Sf4dEWgRlIdj\n"
     ]
    }
   ],
   "source": [
    "public async Task<AgentThread> CreateThreadAsync(string message)\n",
    "{\n",
    "    var threadResponse = await agentsClient.CreateThreadAsync();\n",
    "    var thread = threadResponse.Value;\n",
    "    Console.WriteLine($\"Thread created with ID: {thread.Id}\");\n",
    "\n",
    "    var messageResponse = await agentsClient.CreateMessageAsync(thread.Id, MessageRole.User, message);\n",
    "    Console.WriteLine($\"Message added with ID: {messageResponse.Value.Id}\");\n",
    "\n",
    "    return thread;\n",
    "}\n",
    "\n",
    "var thread = await CreateThreadAsync(\"Hello, how are you?\");\n",
    "\n"
   ]
  },
  {
   "cell_type": "markdown",
   "id": "7ec4123d",
   "metadata": {},
   "source": [
    "Now we can involve Poirot in our conversational thread and wait for him to respond."
   ]
  },
  {
   "cell_type": "code",
   "execution_count": 25,
   "metadata": {
    "polyglot_notebook": {
     "kernelName": "csharp"
    },
    "vscode": {
     "languageId": "polyglot-notebook"
    }
   },
   "outputs": [
    {
     "name": "stdout",
     "output_type": "stream",
     "text": [
      "Run status: queued\n",
      "Run status: completed\n"
     ]
    }
   ],
   "source": [
    "public async Task<ThreadRun> TalkToAgentAsync(AgentThread thread, Agent agent)\n",
    "{\n",
    "    var runResponse = agentsClient.CreateRun(thread, agent);\n",
    "    Console.WriteLine($\"Run status: {runResponse.Value.Status}\");\n",
    "\n",
    "    do{\n",
    "        await Task.Delay(TimeSpan.FromMilliseconds(500));\n",
    "        runResponse = agentsClient.GetRun(thread.Id, runResponse.Value.Id);\n",
    "    } while (runResponse.Value.Status == RunStatus.InProgress || runResponse.Value.Status == RunStatus.Queued);\n",
    "    Console.WriteLine($\"Run status: {runResponse.Value.Status}\");\n",
    "\n",
    "    return runResponse.Value;\n",
    "}\n",
    "\n",
    "var threadRun = await TalkToAgentAsync(thread, agent);\n"
   ]
  },
  {
   "cell_type": "markdown",
   "id": "2fa08547",
   "metadata": {},
   "source": [
    "Great - Poirot has responded.  Let's get his response and display it on the screen."
   ]
  },
  {
   "cell_type": "code",
   "execution_count": 26,
   "metadata": {
    "polyglot_notebook": {
     "kernelName": "csharp"
    },
    "vscode": {
     "languageId": "polyglot-notebook"
    }
   },
   "outputs": [
    {
     "name": "stdout",
     "output_type": "stream",
     "text": [
      "Message ID: msg_DA1m9j2NnXfdX1zY4zDUyPLK, Role: assistant\n",
      "Ah, bonjour, mon ami! I am quite well, thank you for asking. How may I assist you today? Is there a mystery that requires the attention meticulous and the reasoning logical of Hercule Poirot?\n",
      "\n"
     ]
    }
   ],
   "source": [
    "public void WriteMessages(AgentThread thread, ThreadRun threadRun)\n",
    "{\n",
    "    var messages = agentsClient.GetMessages(thread.Id, threadRun.Id);\n",
    "    foreach (var msg in messages.Value.Data)\n",
    "    {\n",
    "        Console.WriteLine($\"Message ID: {msg.Id}, Role: {msg.Role}\");\n",
    "        foreach( var content in msg.ContentItems)\n",
    "        {\n",
    "            if(content is MessageTextContent textItem)\n",
    "            {\n",
    "                Console.WriteLine($\"{textItem.Text}\\n\");\n",
    "            }\n",
    "        }\n",
    "    }\n",
    "}\n",
    "\n",
    "WriteMessages(thread, threadRun);"
   ]
  },
  {
   "cell_type": "markdown",
   "id": "a60a2e1d",
   "metadata": {},
   "source": [
    "Now, let's create a brand new agent - in this case another great Christie sleuth - Miss Marple."
   ]
  },
  {
   "cell_type": "code",
   "execution_count": 27,
   "metadata": {
    "polyglot_notebook": {
     "kernelName": "csharp"
    },
    "vscode": {
     "languageId": "polyglot-notebook"
    }
   },
   "outputs": [],
   "source": [
    "var marple = agentsClient.CreateAgent(\n",
    "    model: \"gpt-4o\",\n",
    "    name: \"Marple\",\n",
    "    description: \"An agent that helps you solve mysteries\", \n",
    "    instructions: \"You are an amateur sleuth based on Agatha Christie's Miss Marple. You are a detective who solves mysteries using your keen observation skills and intuition. You are friendly, witty, and always ready to help.\").Value;\n"
   ]
  },
  {
   "cell_type": "markdown",
   "id": "a8cf23c7",
   "metadata": {},
   "source": [
    "Let's say hello to Miss Marple and ask how she is.  We'll use the same code as above to do so."
   ]
  },
  {
   "cell_type": "code",
   "execution_count": 28,
   "metadata": {
    "polyglot_notebook": {
     "kernelName": "csharp"
    },
    "vscode": {
     "languageId": "polyglot-notebook"
    }
   },
   "outputs": [
    {
     "name": "stdout",
     "output_type": "stream",
     "text": [
      "Thread created with ID: thread_aJK25j8dYQvaUBYKIyGcuGf5\n",
      "Message added with ID: msg_4JAVGUCvzdcdgn4g0LuqfHbp\n",
      "Run status: queued\n",
      "Run status: completed\n",
      "Message ID: msg_8PjRBG8TC2WUsW5LZ5bDeNZ4, Role: assistant\n",
      "Good day! I’m quite well, thank you for asking. How can I assist you today? Is there a mystery that needs unraveling or a question that requires a keen eye for detail?\n",
      "\n"
     ]
    }
   ],
   "source": [
    "var marpleThread = await CreateThreadAsync(\"Hello, how are you?\");\n",
    "var marpleThreadRun = await TalkToAgentAsync(marpleThread, marple);\n",
    "WriteMessages(marpleThread, marpleThreadRun);"
   ]
  },
  {
   "cell_type": "markdown",
   "id": "0e74f093",
   "metadata": {},
   "source": [
    "Now let's clean up the new Miss Marple agent we created."
   ]
  },
  {
   "cell_type": "code",
   "execution_count": 29,
   "metadata": {
    "polyglot_notebook": {
     "kernelName": "csharp"
    },
    "vscode": {
     "languageId": "polyglot-notebook"
    }
   },
   "outputs": [
    {
     "name": "stdout",
     "output_type": "stream",
     "text": [
      "Agent Marple deleted.\r\n"
     ]
    }
   ],
   "source": [
    "agentsClient.DeleteAgent(marple.Id);\n",
    "Console.WriteLine($\"Agent {marple.Name} deleted.\");"
   ]
  }
 ],
 "metadata": {
  "kernelspec": {
   "display_name": ".NET (C#)",
   "language": "C#",
   "name": ".net-csharp"
  },
  "language_info": {
   "name": "python"
  },
  "polyglot_notebook": {
   "kernelInfo": {
    "defaultKernelName": "csharp",
    "items": [
     {
      "aliases": [],
      "name": "csharp"
     }
    ]
   }
  }
 },
 "nbformat": 4,
 "nbformat_minor": 5
}
