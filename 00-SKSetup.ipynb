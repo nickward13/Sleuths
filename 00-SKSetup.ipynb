{
 "cells": [
  {
   "cell_type": "markdown",
   "id": "1356cc60",
   "metadata": {},
   "source": [
    "Import Semantic Kernel SDK from Nuget"
   ]
  },
  {
   "cell_type": "code",
   "execution_count": 1,
   "id": "19573a00",
   "metadata": {
    "polyglot_notebook": {
     "kernelName": "csharp"
    }
   },
   "outputs": [
    {
     "data": {
      "text/html": [
       "<div><div></div><div></div><div><strong>Installed Packages</strong><ul><li><span>Microsoft.SemanticKernel, 1.23.0</span></li></ul></div></div>"
      ]
     },
     "metadata": {},
     "output_type": "display_data"
    }
   ],
   "source": [
    "#r \"nuget: Microsoft.SemanticKernel, 1.23.0\""
   ]
  },
  {
   "cell_type": "markdown",
   "id": "c59ebfe1",
   "metadata": {},
   "source": [
    "Instantiate the Kernel"
   ]
  },
  {
   "cell_type": "code",
   "execution_count": 14,
   "id": "44bebe60",
   "metadata": {
    "polyglot_notebook": {
     "kernelName": "csharp"
    }
   },
   "outputs": [],
   "source": [
    "using Microsoft.SemanticKernel;\n",
    "using Kernel = Microsoft.SemanticKernel.Kernel;\n",
    "\n",
    "//Create Kernel builder\n",
    "var builder = Kernel.CreateBuilder();\n"
   ]
  },
  {
   "cell_type": "code",
   "execution_count": 15,
   "id": "f8f9861f",
   "metadata": {
    "polyglot_notebook": {
     "kernelName": "csharp"
    }
   },
   "outputs": [],
   "source": [
    "var model = \"gpt-4o\";\n",
    "var azureEndpoint = System.Environment.GetEnvironmentVariable(\"AZURE_OPENAI_ENDPOINT\");\n",
    "var azureApiKey = System.Environment.GetEnvironmentVariable(\"AZURE_OPENAI_API_KEY\");\n",
    "\n",
    "builder.AddAzureOpenAIChatCompletion(model, azureEndpoint, azureApiKey);\n",
    "var kernel = builder.Build();"
   ]
  },
  {
   "cell_type": "markdown",
   "id": "9a017f0a",
   "metadata": {},
   "source": [
    "Load a plugin"
   ]
  },
  {
   "cell_type": "code",
   "execution_count": 16,
   "id": "35c410e7",
   "metadata": {
    "polyglot_notebook": {
     "kernelName": "csharp"
    }
   },
   "outputs": [],
   "source": [
    "using System.IO;\n",
    "\n",
    "var funPluginDirectoryPath = Path.Combine(Environment.CurrentDirectory, \"FunPlugin\");\n",
    "var funPluginFunctions = kernel.ImportPluginFromPromptDirectory(funPluginDirectoryPath);\n",
    "\n",
    "\n"
   ]
  },
  {
   "cell_type": "markdown",
   "id": "ed900a55",
   "metadata": {},
   "source": [
    "Run the plugin"
   ]
  },
  {
   "cell_type": "code",
   "execution_count": 18,
   "id": "19fcd72b",
   "metadata": {
    "polyglot_notebook": {
     "kernelName": "csharp"
    }
   },
   "outputs": [
    {
     "name": "stdout",
     "output_type": "stream",
     "text": [
      "Sherlock Holmes and Hercule Poirot found themselves at a detective convention, each trying to outdo the other with their legendary sleuthing skills. During a break, they decided to have a friendly competition to see who could solve a mystery the fastest.\n",
      "\n",
      "Dr. Watson set up the challenge: \"Gentlemen, the mystery is simple. There is a missing sandwich from the break room. Whoever finds it first wins.\"\n",
      "\n",
      "Holmes immediately began examining crumbs on the floor with his magnifying glass, deducing the type of bread and the direction the crumbs led. Poirot, on the other hand, meticulously interviewed everyone in the room, noting their alibis and sandwich preferences.\n",
      "\n",
      "After a few minutes, Holmes triumphantly held up the missing sandwich. \"Elementary, my dear Watson! The crumbs led me straight to it.\"\n",
      "\n",
      "Poirot smiled and said, \"Ah, but Monsieur Holmes, you have found the sandwich, yes, but I have found the true culprit.\" He pointed to a sheepish-looking janitor in the corner. \"He took it because he forgot his lunch at home.\"\n",
      "\n",
      "Holmes looked at the janitor, then at the sandwich, and finally at Poirot. \"Well played, Poirot. But I must say, the game is afoot... and apparently, so is the lunch!\"\n",
      "\n",
      "Everyone burst into laughter, and the two famous sleuths shook hands, agreeing that sometimes, the best mysteries are the ones that end with a good laugh.\r\n"
     ]
    }
   ],
   "source": [
    "var arguments = new KernelArguments() { [\"input\"] = \"famous sleuths such as Sherlock Holmes and Hercule Poirot\" };\n",
    "\n",
    "var result = await kernel.InvokeAsync(funPluginFunctions[\"Joke\"], arguments);\n",
    "Console.WriteLine(result);"
   ]
  }
 ],
 "metadata": {
  "kernelspec": {
   "display_name": ".NET (C#)",
   "language": "C#",
   "name": ".net-csharp"
  },
  "polyglot_notebook": {
   "kernelInfo": {
    "defaultKernelName": "csharp",
    "items": [
     {
      "aliases": [],
      "languageName": "csharp",
      "name": "csharp"
     }
    ]
   }
  }
 },
 "nbformat": 4,
 "nbformat_minor": 5
}
