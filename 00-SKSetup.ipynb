{
 "cells": [
  {
   "cell_type": "markdown",
   "id": "1356cc60",
   "metadata": {},
   "source": [
    "Import Semantic Kernel SDK from Nuget"
   ]
  },
  {
   "cell_type": "code",
   "execution_count": 1,
   "id": "19573a00",
   "metadata": {
    "polyglot_notebook": {
     "kernelName": "csharp"
    }
   },
   "outputs": [
    {
     "data": {
      "text/html": [
       "<div><div></div><div></div><div><strong>Installed Packages</strong><ul><li><span>Microsoft.SemanticKernel, 1.23.0</span></li></ul></div></div>"
      ]
     },
     "metadata": {},
     "output_type": "display_data"
    }
   ],
   "source": [
    "#r \"nuget: Microsoft.SemanticKernel, 1.23.0\""
   ]
  },
  {
   "cell_type": "markdown",
   "id": "c59ebfe1",
   "metadata": {},
   "source": [
    "Instantiate the Kernel"
   ]
  },
  {
   "cell_type": "code",
   "execution_count": 2,
   "id": "44bebe60",
   "metadata": {
    "polyglot_notebook": {
     "kernelName": "csharp"
    }
   },
   "outputs": [],
   "source": [
    "using Microsoft.SemanticKernel;\n",
    "using Kernel = Microsoft.SemanticKernel.Kernel;\n",
    "\n",
    "//Create Kernel builder\n",
    "var builder = Kernel.CreateBuilder();\n"
   ]
  },
  {
   "cell_type": "code",
   "execution_count": 3,
   "id": "f8f9861f",
   "metadata": {
    "polyglot_notebook": {
     "kernelName": "csharp"
    }
   },
   "outputs": [],
   "source": [
    "var model = \"gpt-4o\";\n",
    "var azureEndpoint = System.Environment.GetEnvironmentVariable(\"AZURE_OPENAI_ENDPOINT\");\n",
    "var azureApiKey = System.Environment.GetEnvironmentVariable(\"AZURE_OPENAI_API_KEY\");\n",
    "\n",
    "builder.AddAzureOpenAIChatCompletion(model, azureEndpoint, azureApiKey);\n",
    "var kernel = builder.Build();"
   ]
  },
  {
   "cell_type": "markdown",
   "id": "9a017f0a",
   "metadata": {},
   "source": [
    "Load a plugin"
   ]
  },
  {
   "cell_type": "code",
   "execution_count": 4,
   "id": "35c410e7",
   "metadata": {
    "polyglot_notebook": {
     "kernelName": "csharp"
    }
   },
   "outputs": [],
   "source": [
    "using System.IO;\n",
    "\n",
    "var funPluginDirectoryPath = Path.Combine(Environment.CurrentDirectory, \"FunPlugin\");\n",
    "var funPluginFunctions = kernel.ImportPluginFromPromptDirectory(funPluginDirectoryPath);\n",
    "\n",
    "\n"
   ]
  },
  {
   "cell_type": "markdown",
   "id": "ed900a55",
   "metadata": {},
   "source": [
    "Run the plugin"
   ]
  },
  {
   "cell_type": "code",
   "execution_count": 5,
   "id": "19fcd72b",
   "metadata": {
    "polyglot_notebook": {
     "kernelName": "csharp"
    }
   },
   "outputs": [
    {
     "name": "stdout",
     "output_type": "stream",
     "text": [
      "Hercule Poirot was called to solve a mystery at a bustling office. The case? Someone had stolen all the staplers. Poirot, with his impeccable mustache and sharp mind, began his investigation.\n",
      "\n",
      "He interviewed the employees one by one. \"Madame, did you see anything suspicious?\" he asked the receptionist.\n",
      "\n",
      "\"No, Monsieur Poirot, but I did hear a strange noise coming from the supply closet,\" she replied.\n",
      "\n",
      "Poirot's little grey cells were working overtime. He inspected the supply closet and found a trail of paperclips leading to the break room. There, he discovered the office cat, Whiskers, playing with a pile of staplers.\n",
      "\n",
      "\"Ah, mon ami,\" Poirot said, picking up Whiskers, \"it seems our thief has a penchant for shiny objects. Case solved!\"\n",
      "\n",
      "The office erupted in laughter, and Poirot, with a twinkle in his eye, declared, \"Even the smallest mysteries deserve the greatest detectives!\"\r\n"
     ]
    }
   ],
   "source": [
    "var arguments = new KernelArguments() { [\"input\"] = \"Agatha Christie's famous detectective Hercule Poirot\" };\n",
    "\n",
    "var result = await kernel.InvokeAsync(funPluginFunctions[\"Joke\"], arguments);\n",
    "Console.WriteLine(result);"
   ]
  }
 ],
 "metadata": {
  "kernelspec": {
   "display_name": ".NET (C#)",
   "language": "C#",
   "name": ".net-csharp"
  },
  "polyglot_notebook": {
   "kernelInfo": {
    "defaultKernelName": "csharp",
    "items": [
     {
      "aliases": [],
      "languageName": "csharp",
      "name": "csharp"
     }
    ]
   }
  }
 },
 "nbformat": 4,
 "nbformat_minor": 5
}
